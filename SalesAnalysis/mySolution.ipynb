{
 "cells": [
  {
   "cell_type": "code",
   "execution_count": 2,
   "id": "b9550f5b",
   "metadata": {},
   "outputs": [],
   "source": [
    "import pandas as pd\n",
    "import numpy as np\n",
    "import matplotlib.pyplot as plt\n",
    "import os"
   ]
  },
  {
   "cell_type": "markdown",
   "id": "28407da8",
   "metadata": {},
   "source": [
    "## Tarea 1: Juntar los csv en solo uno"
   ]
  },
  {
   "cell_type": "code",
   "execution_count": 5,
   "id": "34c10e66",
   "metadata": {},
   "outputs": [],
   "source": [
    "data_path = 'Sales_Data/'"
   ]
  },
  {
   "cell_type": "code",
   "execution_count": 6,
   "id": "8721a3e6",
   "metadata": {
    "scrolled": true
   },
   "outputs": [
    {
     "name": "stdout",
     "output_type": "stream",
     "text": [
      "['Sales_September_2019.csv', 'Sales_February_2019.csv', 'Sales_December_2019.csv', 'Sales_April_2019.csv', 'Sales_July_2019.csv', 'Sales_June_2019.csv', 'Sales_January_2019.csv', 'Sales_October_2019.csv', 'Sales_August_2019.csv', 'Sales_March_2019.csv', 'Sales_November_2019.csv', 'Sales_May_2019.csv']\n"
     ]
    }
   ],
   "source": [
    "csv_files = [f for f in os.listdir(data_path) if f.endswith('.csv')]\n",
    "print(csv_files)"
   ]
  },
  {
   "cell_type": "code",
   "execution_count": 7,
   "id": "4a0226c8",
   "metadata": {},
   "outputs": [],
   "source": [
    "df = pd.DataFrame()\n",
    "for i in csv_files:\n",
    "    temp = pd.read_csv(data_path+\"/\"+i)\n",
    "    df = pd.concat([df, temp])\n",
    "    \n",
    "df.to_csv('merge.csv', index = False)"
   ]
  },
  {
   "cell_type": "code",
   "execution_count": 8,
   "id": "1f3b0f42",
   "metadata": {},
   "outputs": [
    {
     "data": {
      "text/html": [
       "<div>\n",
       "<style scoped>\n",
       "    .dataframe tbody tr th:only-of-type {\n",
       "        vertical-align: middle;\n",
       "    }\n",
       "\n",
       "    .dataframe tbody tr th {\n",
       "        vertical-align: top;\n",
       "    }\n",
       "\n",
       "    .dataframe thead th {\n",
       "        text-align: right;\n",
       "    }\n",
       "</style>\n",
       "<table border=\"1\" class=\"dataframe\">\n",
       "  <thead>\n",
       "    <tr style=\"text-align: right;\">\n",
       "      <th></th>\n",
       "      <th>Order ID</th>\n",
       "      <th>Product</th>\n",
       "      <th>Quantity Ordered</th>\n",
       "      <th>Price Each</th>\n",
       "      <th>Order Date</th>\n",
       "      <th>Purchase Address</th>\n",
       "    </tr>\n",
       "  </thead>\n",
       "  <tbody>\n",
       "    <tr>\n",
       "      <th>0</th>\n",
       "      <td>248151</td>\n",
       "      <td>AA Batteries (4-pack)</td>\n",
       "      <td>4</td>\n",
       "      <td>3.84</td>\n",
       "      <td>09/17/19 14:44</td>\n",
       "      <td>380 North St, Los Angeles, CA 90001</td>\n",
       "    </tr>\n",
       "    <tr>\n",
       "      <th>1</th>\n",
       "      <td>248152</td>\n",
       "      <td>USB-C Charging Cable</td>\n",
       "      <td>2</td>\n",
       "      <td>11.95</td>\n",
       "      <td>09/29/19 10:19</td>\n",
       "      <td>511 8th St, Austin, TX 73301</td>\n",
       "    </tr>\n",
       "    <tr>\n",
       "      <th>2</th>\n",
       "      <td>248153</td>\n",
       "      <td>USB-C Charging Cable</td>\n",
       "      <td>1</td>\n",
       "      <td>11.95</td>\n",
       "      <td>09/16/19 17:48</td>\n",
       "      <td>151 Johnson St, Los Angeles, CA 90001</td>\n",
       "    </tr>\n",
       "    <tr>\n",
       "      <th>3</th>\n",
       "      <td>248154</td>\n",
       "      <td>27in FHD Monitor</td>\n",
       "      <td>1</td>\n",
       "      <td>149.99</td>\n",
       "      <td>09/27/19 07:52</td>\n",
       "      <td>355 Hickory St, Seattle, WA 98101</td>\n",
       "    </tr>\n",
       "    <tr>\n",
       "      <th>4</th>\n",
       "      <td>248155</td>\n",
       "      <td>USB-C Charging Cable</td>\n",
       "      <td>1</td>\n",
       "      <td>11.95</td>\n",
       "      <td>09/01/19 19:03</td>\n",
       "      <td>125 5th St, Atlanta, GA 30301</td>\n",
       "    </tr>\n",
       "  </tbody>\n",
       "</table>\n",
       "</div>"
      ],
      "text/plain": [
       "  Order ID                Product Quantity Ordered Price Each      Order Date  \\\n",
       "0   248151  AA Batteries (4-pack)                4       3.84  09/17/19 14:44   \n",
       "1   248152   USB-C Charging Cable                2      11.95  09/29/19 10:19   \n",
       "2   248153   USB-C Charging Cable                1      11.95  09/16/19 17:48   \n",
       "3   248154       27in FHD Monitor                1     149.99  09/27/19 07:52   \n",
       "4   248155   USB-C Charging Cable                1      11.95  09/01/19 19:03   \n",
       "\n",
       "                        Purchase Address  \n",
       "0    380 North St, Los Angeles, CA 90001  \n",
       "1           511 8th St, Austin, TX 73301  \n",
       "2  151 Johnson St, Los Angeles, CA 90001  \n",
       "3      355 Hickory St, Seattle, WA 98101  \n",
       "4          125 5th St, Atlanta, GA 30301  "
      ]
     },
     "execution_count": 8,
     "metadata": {},
     "output_type": "execute_result"
    }
   ],
   "source": [
    "all_data = pd.read_csv('merge.csv')\n",
    "all_data.head()"
   ]
  },
  {
   "cell_type": "markdown",
   "id": "7143fc7a",
   "metadata": {},
   "source": [
    "## Tarea 2: Nueva columna meses"
   ]
  },
  {
   "cell_type": "code",
   "execution_count": 11,
   "id": "c60f5aa7",
   "metadata": {
    "scrolled": true
   },
   "outputs": [
    {
     "data": {
      "text/html": [
       "<div>\n",
       "<style scoped>\n",
       "    .dataframe tbody tr th:only-of-type {\n",
       "        vertical-align: middle;\n",
       "    }\n",
       "\n",
       "    .dataframe tbody tr th {\n",
       "        vertical-align: top;\n",
       "    }\n",
       "\n",
       "    .dataframe thead th {\n",
       "        text-align: right;\n",
       "    }\n",
       "</style>\n",
       "<table border=\"1\" class=\"dataframe\">\n",
       "  <thead>\n",
       "    <tr style=\"text-align: right;\">\n",
       "      <th></th>\n",
       "      <th>Order ID</th>\n",
       "      <th>Product</th>\n",
       "      <th>Quantity Ordered</th>\n",
       "      <th>Price Each</th>\n",
       "      <th>Order Date</th>\n",
       "      <th>Purchase Address</th>\n",
       "      <th>Month</th>\n",
       "    </tr>\n",
       "  </thead>\n",
       "  <tbody>\n",
       "    <tr>\n",
       "      <th>0</th>\n",
       "      <td>248151</td>\n",
       "      <td>AA Batteries (4-pack)</td>\n",
       "      <td>4</td>\n",
       "      <td>3.84</td>\n",
       "      <td>09/17/19 14:44</td>\n",
       "      <td>380 North St, Los Angeles, CA 90001</td>\n",
       "      <td>9</td>\n",
       "    </tr>\n",
       "    <tr>\n",
       "      <th>1</th>\n",
       "      <td>248152</td>\n",
       "      <td>USB-C Charging Cable</td>\n",
       "      <td>2</td>\n",
       "      <td>11.95</td>\n",
       "      <td>09/29/19 10:19</td>\n",
       "      <td>511 8th St, Austin, TX 73301</td>\n",
       "      <td>9</td>\n",
       "    </tr>\n",
       "    <tr>\n",
       "      <th>2</th>\n",
       "      <td>248153</td>\n",
       "      <td>USB-C Charging Cable</td>\n",
       "      <td>1</td>\n",
       "      <td>11.95</td>\n",
       "      <td>09/16/19 17:48</td>\n",
       "      <td>151 Johnson St, Los Angeles, CA 90001</td>\n",
       "      <td>9</td>\n",
       "    </tr>\n",
       "    <tr>\n",
       "      <th>3</th>\n",
       "      <td>248154</td>\n",
       "      <td>27in FHD Monitor</td>\n",
       "      <td>1</td>\n",
       "      <td>149.99</td>\n",
       "      <td>09/27/19 07:52</td>\n",
       "      <td>355 Hickory St, Seattle, WA 98101</td>\n",
       "      <td>9</td>\n",
       "    </tr>\n",
       "    <tr>\n",
       "      <th>4</th>\n",
       "      <td>248155</td>\n",
       "      <td>USB-C Charging Cable</td>\n",
       "      <td>1</td>\n",
       "      <td>11.95</td>\n",
       "      <td>09/01/19 19:03</td>\n",
       "      <td>125 5th St, Atlanta, GA 30301</td>\n",
       "      <td>9</td>\n",
       "    </tr>\n",
       "    <tr>\n",
       "      <th>...</th>\n",
       "      <td>...</td>\n",
       "      <td>...</td>\n",
       "      <td>...</td>\n",
       "      <td>...</td>\n",
       "      <td>...</td>\n",
       "      <td>...</td>\n",
       "      <td>...</td>\n",
       "    </tr>\n",
       "    <tr>\n",
       "      <th>95</th>\n",
       "      <td>248243</td>\n",
       "      <td>USB-C Charging Cable</td>\n",
       "      <td>1</td>\n",
       "      <td>11.95</td>\n",
       "      <td>09/04/19 10:49</td>\n",
       "      <td>522 12th St, San Francisco, CA 94016</td>\n",
       "      <td>9</td>\n",
       "    </tr>\n",
       "    <tr>\n",
       "      <th>96</th>\n",
       "      <td>248244</td>\n",
       "      <td>Lightning Charging Cable</td>\n",
       "      <td>1</td>\n",
       "      <td>14.95</td>\n",
       "      <td>09/21/19 16:01</td>\n",
       "      <td>57 Willow St, Dallas, TX 75001</td>\n",
       "      <td>9</td>\n",
       "    </tr>\n",
       "    <tr>\n",
       "      <th>97</th>\n",
       "      <td>248245</td>\n",
       "      <td>Wired Headphones</td>\n",
       "      <td>1</td>\n",
       "      <td>11.99</td>\n",
       "      <td>09/15/19 10:40</td>\n",
       "      <td>969 Maple St, Dallas, TX 75001</td>\n",
       "      <td>9</td>\n",
       "    </tr>\n",
       "    <tr>\n",
       "      <th>98</th>\n",
       "      <td>248246</td>\n",
       "      <td>Wired Headphones</td>\n",
       "      <td>1</td>\n",
       "      <td>11.99</td>\n",
       "      <td>09/11/19 20:13</td>\n",
       "      <td>727 Center St, Los Angeles, CA 90001</td>\n",
       "      <td>9</td>\n",
       "    </tr>\n",
       "    <tr>\n",
       "      <th>99</th>\n",
       "      <td>248247</td>\n",
       "      <td>27in 4K Gaming Monitor</td>\n",
       "      <td>1</td>\n",
       "      <td>389.99</td>\n",
       "      <td>09/09/19 23:35</td>\n",
       "      <td>192 7th St, New York City, NY 10001</td>\n",
       "      <td>9</td>\n",
       "    </tr>\n",
       "  </tbody>\n",
       "</table>\n",
       "<p>100 rows × 7 columns</p>\n",
       "</div>"
      ],
      "text/plain": [
       "   Order ID                   Product Quantity Ordered Price Each  \\\n",
       "0    248151     AA Batteries (4-pack)                4       3.84   \n",
       "1    248152      USB-C Charging Cable                2      11.95   \n",
       "2    248153      USB-C Charging Cable                1      11.95   \n",
       "3    248154          27in FHD Monitor                1     149.99   \n",
       "4    248155      USB-C Charging Cable                1      11.95   \n",
       "..      ...                       ...              ...        ...   \n",
       "95   248243      USB-C Charging Cable                1      11.95   \n",
       "96   248244  Lightning Charging Cable                1      14.95   \n",
       "97   248245          Wired Headphones                1      11.99   \n",
       "98   248246          Wired Headphones                1      11.99   \n",
       "99   248247    27in 4K Gaming Monitor                1     389.99   \n",
       "\n",
       "        Order Date                       Purchase Address  Month  \n",
       "0   09/17/19 14:44    380 North St, Los Angeles, CA 90001      9  \n",
       "1   09/29/19 10:19           511 8th St, Austin, TX 73301      9  \n",
       "2   09/16/19 17:48  151 Johnson St, Los Angeles, CA 90001      9  \n",
       "3   09/27/19 07:52      355 Hickory St, Seattle, WA 98101      9  \n",
       "4   09/01/19 19:03          125 5th St, Atlanta, GA 30301      9  \n",
       "..             ...                                    ...    ...  \n",
       "95  09/04/19 10:49   522 12th St, San Francisco, CA 94016      9  \n",
       "96  09/21/19 16:01         57 Willow St, Dallas, TX 75001      9  \n",
       "97  09/15/19 10:40         969 Maple St, Dallas, TX 75001      9  \n",
       "98  09/11/19 20:13   727 Center St, Los Angeles, CA 90001      9  \n",
       "99  09/09/19 23:35    192 7th St, New York City, NY 10001      9  \n",
       "\n",
       "[100 rows x 7 columns]"
      ]
     },
     "execution_count": 11,
     "metadata": {},
     "output_type": "execute_result"
    }
   ],
   "source": [
    "all_data['Month'] = all_data['Order Date'].str.extract('(\\d+)/')\n",
    "all_data['Month'] = all_data['Month'].astype('int32')\n",
    "all_data.head(100)"
   ]
  },
  {
   "cell_type": "markdown",
   "id": "70af0967",
   "metadata": {},
   "source": [
    "#### ValueError: cannot convert float NaN to integer"
   ]
  },
  {
   "cell_type": "code",
   "execution_count": 10,
   "id": "72d2258a",
   "metadata": {},
   "outputs": [],
   "source": [
    "all_data.dropna(subset=['Month'], inplace=True)\n"
   ]
  },
  {
   "cell_type": "markdown",
   "id": "a7e4bf26",
   "metadata": {},
   "source": [
    "## Data Exploration!"
   ]
  },
  {
   "cell_type": "markdown",
   "id": "9d8a7152",
   "metadata": {},
   "source": [
    "**Question 1: What was the best month for sales? How much was earned that month?**"
   ]
  },
  {
   "cell_type": "code",
   "execution_count": 12,
   "id": "6876363d",
   "metadata": {},
   "outputs": [
    {
     "name": "stdout",
     "output_type": "stream",
     "text": [
      "              Sales\n",
      "Month              \n",
      "1      1.822257e+06\n",
      "2      2.202022e+06\n",
      "3      2.807100e+06\n",
      "4      3.390670e+06\n",
      "5      3.152607e+06\n",
      "6      2.577802e+06\n",
      "7      2.647776e+06\n",
      "8      2.244468e+06\n",
      "9      2.097560e+06\n",
      "10     3.736727e+06\n",
      "11     3.199603e+06\n",
      "12     4.613443e+06\n"
     ]
    }
   ],
   "source": [
    "# Creamos una nueva columna sales\n",
    "all_data['Sales'] = all_data['Quantity Ordered'].astype('int32') * all_data['Price Each'].astype('float32')\n",
    "\n",
    "month_sales = all_data.groupby(['Month']).sum(numeric_only=True)\n",
    "\n",
    "print(month_sales)\n"
   ]
  },
  {
   "cell_type": "code",
   "execution_count": 13,
   "id": "19e9d84b",
   "metadata": {
    "scrolled": true
   },
   "outputs": [
    {
     "data": {
      "image/png": "[encoded data removed]",
      "text/plain": [
       "<Figure size 640x480 with 1 Axes>"
      ]
     },
     "metadata": {},
     "output_type": "display_data"
    }
   ],
   "source": [
    "# Grafica\n",
    "plt.style.use('ggplot')\n",
    "month_sales.plot(kind='bar')  \n",
    "plt.title('Monthly Sales')\n",
    "plt.xlabel('Month')\n",
    "plt.ylabel('Total Sales')\n",
    "plt.show()"
   ]
  },
  {
   "cell_type": "markdown",
   "id": "caffc5cc",
   "metadata": {},
   "source": [
    "**Question 2: What city sold the most product?**"
   ]
  },
  {
   "cell_type": "code",
   "execution_count": 14,
   "id": "3cd66ec5",
   "metadata": {},
   "outputs": [
    {
     "data": {
      "text/html": [
       "<div>\n",
       "<style scoped>\n",
       "    .dataframe tbody tr th:only-of-type {\n",
       "        vertical-align: middle;\n",
       "    }\n",
       "\n",
       "    .dataframe tbody tr th {\n",
       "        vertical-align: top;\n",
       "    }\n",
       "\n",
       "    .dataframe thead th {\n",
       "        text-align: right;\n",
       "    }\n",
       "</style>\n",
       "<table border=\"1\" class=\"dataframe\">\n",
       "  <thead>\n",
       "    <tr style=\"text-align: right;\">\n",
       "      <th></th>\n",
       "      <th>Order ID</th>\n",
       "      <th>Product</th>\n",
       "      <th>Quantity Ordered</th>\n",
       "      <th>Price Each</th>\n",
       "      <th>Order Date</th>\n",
       "      <th>Purchase Address</th>\n",
       "      <th>Month</th>\n",
       "      <th>Sales</th>\n",
       "      <th>City</th>\n",
       "    </tr>\n",
       "  </thead>\n",
       "  <tbody>\n",
       "    <tr>\n",
       "      <th>0</th>\n",
       "      <td>248151</td>\n",
       "      <td>AA Batteries (4-pack)</td>\n",
       "      <td>4</td>\n",
       "      <td>3.84</td>\n",
       "      <td>09/17/19 14:44</td>\n",
       "      <td>380 North St, Los Angeles, CA 90001</td>\n",
       "      <td>9</td>\n",
       "      <td>15.360000</td>\n",
       "      <td>Los Angeles</td>\n",
       "    </tr>\n",
       "    <tr>\n",
       "      <th>1</th>\n",
       "      <td>248152</td>\n",
       "      <td>USB-C Charging Cable</td>\n",
       "      <td>2</td>\n",
       "      <td>11.95</td>\n",
       "      <td>09/29/19 10:19</td>\n",
       "      <td>511 8th St, Austin, TX 73301</td>\n",
       "      <td>9</td>\n",
       "      <td>23.900000</td>\n",
       "      <td>Austin</td>\n",
       "    </tr>\n",
       "    <tr>\n",
       "      <th>2</th>\n",
       "      <td>248153</td>\n",
       "      <td>USB-C Charging Cable</td>\n",
       "      <td>1</td>\n",
       "      <td>11.95</td>\n",
       "      <td>09/16/19 17:48</td>\n",
       "      <td>151 Johnson St, Los Angeles, CA 90001</td>\n",
       "      <td>9</td>\n",
       "      <td>11.950000</td>\n",
       "      <td>Los Angeles</td>\n",
       "    </tr>\n",
       "    <tr>\n",
       "      <th>3</th>\n",
       "      <td>248154</td>\n",
       "      <td>27in FHD Monitor</td>\n",
       "      <td>1</td>\n",
       "      <td>149.99</td>\n",
       "      <td>09/27/19 07:52</td>\n",
       "      <td>355 Hickory St, Seattle, WA 98101</td>\n",
       "      <td>9</td>\n",
       "      <td>149.990005</td>\n",
       "      <td>Seattle</td>\n",
       "    </tr>\n",
       "    <tr>\n",
       "      <th>4</th>\n",
       "      <td>248155</td>\n",
       "      <td>USB-C Charging Cable</td>\n",
       "      <td>1</td>\n",
       "      <td>11.95</td>\n",
       "      <td>09/01/19 19:03</td>\n",
       "      <td>125 5th St, Atlanta, GA 30301</td>\n",
       "      <td>9</td>\n",
       "      <td>11.950000</td>\n",
       "      <td>Atlanta</td>\n",
       "    </tr>\n",
       "    <tr>\n",
       "      <th>...</th>\n",
       "      <td>...</td>\n",
       "      <td>...</td>\n",
       "      <td>...</td>\n",
       "      <td>...</td>\n",
       "      <td>...</td>\n",
       "      <td>...</td>\n",
       "      <td>...</td>\n",
       "      <td>...</td>\n",
       "      <td>...</td>\n",
       "    </tr>\n",
       "    <tr>\n",
       "      <th>186845</th>\n",
       "      <td>209916</td>\n",
       "      <td>Bose SoundSport Headphones</td>\n",
       "      <td>1</td>\n",
       "      <td>99.99</td>\n",
       "      <td>05/08/19 19:15</td>\n",
       "      <td>235 Center St, Seattle, WA 98101</td>\n",
       "      <td>5</td>\n",
       "      <td>99.989998</td>\n",
       "      <td>Seattle</td>\n",
       "    </tr>\n",
       "    <tr>\n",
       "      <th>186846</th>\n",
       "      <td>209917</td>\n",
       "      <td>Wired Headphones</td>\n",
       "      <td>1</td>\n",
       "      <td>11.99</td>\n",
       "      <td>05/24/19 22:02</td>\n",
       "      <td>926 9th St, San Francisco, CA 94016</td>\n",
       "      <td>5</td>\n",
       "      <td>11.990000</td>\n",
       "      <td>San Francisco</td>\n",
       "    </tr>\n",
       "    <tr>\n",
       "      <th>186847</th>\n",
       "      <td>209918</td>\n",
       "      <td>AAA Batteries (4-pack)</td>\n",
       "      <td>2</td>\n",
       "      <td>2.99</td>\n",
       "      <td>05/24/19 17:44</td>\n",
       "      <td>868 Hickory St, Boston, MA 02215</td>\n",
       "      <td>5</td>\n",
       "      <td>5.980000</td>\n",
       "      <td>Boston</td>\n",
       "    </tr>\n",
       "    <tr>\n",
       "      <th>186848</th>\n",
       "      <td>209919</td>\n",
       "      <td>USB-C Charging Cable</td>\n",
       "      <td>1</td>\n",
       "      <td>11.95</td>\n",
       "      <td>05/04/19 12:46</td>\n",
       "      <td>204 Adams St, Seattle, WA 98101</td>\n",
       "      <td>5</td>\n",
       "      <td>11.950000</td>\n",
       "      <td>Seattle</td>\n",
       "    </tr>\n",
       "    <tr>\n",
       "      <th>186849</th>\n",
       "      <td>209920</td>\n",
       "      <td>ThinkPad Laptop</td>\n",
       "      <td>1</td>\n",
       "      <td>999.99</td>\n",
       "      <td>05/18/19 23:07</td>\n",
       "      <td>43 5th St, Atlanta, GA 30301</td>\n",
       "      <td>5</td>\n",
       "      <td>999.989990</td>\n",
       "      <td>Atlanta</td>\n",
       "    </tr>\n",
       "  </tbody>\n",
       "</table>\n",
       "<p>185950 rows × 9 columns</p>\n",
       "</div>"
      ],
      "text/plain": [
       "       Order ID                     Product Quantity Ordered Price Each  \\\n",
       "0        248151       AA Batteries (4-pack)                4       3.84   \n",
       "1        248152        USB-C Charging Cable                2      11.95   \n",
       "2        248153        USB-C Charging Cable                1      11.95   \n",
       "3        248154            27in FHD Monitor                1     149.99   \n",
       "4        248155        USB-C Charging Cable                1      11.95   \n",
       "...         ...                         ...              ...        ...   \n",
       "186845   209916  Bose SoundSport Headphones                1      99.99   \n",
       "186846   209917            Wired Headphones                1      11.99   \n",
       "186847   209918      AAA Batteries (4-pack)                2       2.99   \n",
       "186848   209919        USB-C Charging Cable                1      11.95   \n",
       "186849   209920             ThinkPad Laptop                1     999.99   \n",
       "\n",
       "            Order Date                       Purchase Address  Month  \\\n",
       "0       09/17/19 14:44    380 North St, Los Angeles, CA 90001      9   \n",
       "1       09/29/19 10:19           511 8th St, Austin, TX 73301      9   \n",
       "2       09/16/19 17:48  151 Johnson St, Los Angeles, CA 90001      9   \n",
       "3       09/27/19 07:52      355 Hickory St, Seattle, WA 98101      9   \n",
       "4       09/01/19 19:03          125 5th St, Atlanta, GA 30301      9   \n",
       "...                ...                                    ...    ...   \n",
       "186845  05/08/19 19:15       235 Center St, Seattle, WA 98101      5   \n",
       "186846  05/24/19 22:02    926 9th St, San Francisco, CA 94016      5   \n",
       "186847  05/24/19 17:44       868 Hickory St, Boston, MA 02215      5   \n",
       "186848  05/04/19 12:46        204 Adams St, Seattle, WA 98101      5   \n",
       "186849  05/18/19 23:07           43 5th St, Atlanta, GA 30301      5   \n",
       "\n",
       "             Sales            City  \n",
       "0        15.360000     Los Angeles  \n",
       "1        23.900000          Austin  \n",
       "2        11.950000     Los Angeles  \n",
       "3       149.990005         Seattle  \n",
       "4        11.950000         Atlanta  \n",
       "...            ...             ...  \n",
       "186845   99.989998         Seattle  \n",
       "186846   11.990000   San Francisco  \n",
       "186847    5.980000          Boston  \n",
       "186848   11.950000         Seattle  \n",
       "186849  999.989990         Atlanta  \n",
       "\n",
       "[185950 rows x 9 columns]"
      ]
     },
     "execution_count": 14,
     "metadata": {},
     "output_type": "execute_result"
    }
   ],
   "source": [
    "address_list = all_data['Purchase Address'].str.split(',')\n",
    "city_list = [addr[1] for addr in address_list]\n",
    "all_data['City'] = city_list\n",
    "all_data"
   ]
  },
  {
   "cell_type": "code",
   "execution_count": 15,
   "id": "1f77a859",
   "metadata": {},
   "outputs": [],
   "source": [
    "q2 = all_data.groupby(['City']).agg({'Sales': 'sum'})"
   ]
  },
  {
   "cell_type": "code",
   "execution_count": 16,
   "id": "eee0fb7b",
   "metadata": {},
   "outputs": [
    {
     "data": {
      "image/png": "[encoded data removed]",
      "text/plain": [
       "<Figure size 640x480 with 1 Axes>"
      ]
     },
     "metadata": {},
     "output_type": "display_data"
    }
   ],
   "source": [
    "q2.plot(kind='bar')  \n",
    "plt.title('Cities sales')\n",
    "plt.xlabel('Cities')\n",
    "plt.ylabel('Total Sales')\n",
    "plt.show()"
   ]
  },
  {
   "cell_type": "markdown",
   "id": "568de017",
   "metadata": {},
   "source": [
    "**Question 3: What time should we display advertisements to maximize likelihood of customer's buying product?**"
   ]
  },
  {
   "cell_type": "code",
   "execution_count": 18,
   "id": "bb7d3a17",
   "metadata": {
    "scrolled": true
   },
   "outputs": [
    {
     "data": {
      "text/html": [
       "<div>\n",
       "<style scoped>\n",
       "    .dataframe tbody tr th:only-of-type {\n",
       "        vertical-align: middle;\n",
       "    }\n",
       "\n",
       "    .dataframe tbody tr th {\n",
       "        vertical-align: top;\n",
       "    }\n",
       "\n",
       "    .dataframe thead th {\n",
       "        text-align: right;\n",
       "    }\n",
       "</style>\n",
       "<table border=\"1\" class=\"dataframe\">\n",
       "  <thead>\n",
       "    <tr style=\"text-align: right;\">\n",
       "      <th></th>\n",
       "      <th>Order ID</th>\n",
       "      <th>Product</th>\n",
       "      <th>Quantity Ordered</th>\n",
       "      <th>Price Each</th>\n",
       "      <th>Order Date</th>\n",
       "      <th>Purchase Address</th>\n",
       "      <th>Month</th>\n",
       "      <th>Sales</th>\n",
       "      <th>City</th>\n",
       "      <th>Hour</th>\n",
       "      <th>Minute</th>\n",
       "    </tr>\n",
       "  </thead>\n",
       "  <tbody>\n",
       "    <tr>\n",
       "      <th>0</th>\n",
       "      <td>248151</td>\n",
       "      <td>AA Batteries (4-pack)</td>\n",
       "      <td>4</td>\n",
       "      <td>3.84</td>\n",
       "      <td>09/17/19 14:44</td>\n",
       "      <td>380 North St, Los Angeles, CA 90001</td>\n",
       "      <td>9</td>\n",
       "      <td>15.360000</td>\n",
       "      <td>Los Angeles</td>\n",
       "      <td>14</td>\n",
       "      <td>44</td>\n",
       "    </tr>\n",
       "    <tr>\n",
       "      <th>1</th>\n",
       "      <td>248152</td>\n",
       "      <td>USB-C Charging Cable</td>\n",
       "      <td>2</td>\n",
       "      <td>11.95</td>\n",
       "      <td>09/29/19 10:19</td>\n",
       "      <td>511 8th St, Austin, TX 73301</td>\n",
       "      <td>9</td>\n",
       "      <td>23.900000</td>\n",
       "      <td>Austin</td>\n",
       "      <td>10</td>\n",
       "      <td>19</td>\n",
       "    </tr>\n",
       "    <tr>\n",
       "      <th>2</th>\n",
       "      <td>248153</td>\n",
       "      <td>USB-C Charging Cable</td>\n",
       "      <td>1</td>\n",
       "      <td>11.95</td>\n",
       "      <td>09/16/19 17:48</td>\n",
       "      <td>151 Johnson St, Los Angeles, CA 90001</td>\n",
       "      <td>9</td>\n",
       "      <td>11.950000</td>\n",
       "      <td>Los Angeles</td>\n",
       "      <td>17</td>\n",
       "      <td>48</td>\n",
       "    </tr>\n",
       "    <tr>\n",
       "      <th>3</th>\n",
       "      <td>248154</td>\n",
       "      <td>27in FHD Monitor</td>\n",
       "      <td>1</td>\n",
       "      <td>149.99</td>\n",
       "      <td>09/27/19 07:52</td>\n",
       "      <td>355 Hickory St, Seattle, WA 98101</td>\n",
       "      <td>9</td>\n",
       "      <td>149.990005</td>\n",
       "      <td>Seattle</td>\n",
       "      <td>7</td>\n",
       "      <td>52</td>\n",
       "    </tr>\n",
       "    <tr>\n",
       "      <th>4</th>\n",
       "      <td>248155</td>\n",
       "      <td>USB-C Charging Cable</td>\n",
       "      <td>1</td>\n",
       "      <td>11.95</td>\n",
       "      <td>09/01/19 19:03</td>\n",
       "      <td>125 5th St, Atlanta, GA 30301</td>\n",
       "      <td>9</td>\n",
       "      <td>11.950000</td>\n",
       "      <td>Atlanta</td>\n",
       "      <td>19</td>\n",
       "      <td>3</td>\n",
       "    </tr>\n",
       "  </tbody>\n",
       "</table>\n",
       "</div>"
      ],
      "text/plain": [
       "  Order ID                Product Quantity Ordered Price Each      Order Date  \\\n",
       "0   248151  AA Batteries (4-pack)                4       3.84  09/17/19 14:44   \n",
       "1   248152   USB-C Charging Cable                2      11.95  09/29/19 10:19   \n",
       "2   248153   USB-C Charging Cable                1      11.95  09/16/19 17:48   \n",
       "3   248154       27in FHD Monitor                1     149.99  09/27/19 07:52   \n",
       "4   248155   USB-C Charging Cable                1      11.95  09/01/19 19:03   \n",
       "\n",
       "                        Purchase Address  Month       Sales          City  \\\n",
       "0    380 North St, Los Angeles, CA 90001      9   15.360000   Los Angeles   \n",
       "1           511 8th St, Austin, TX 73301      9   23.900000        Austin   \n",
       "2  151 Johnson St, Los Angeles, CA 90001      9   11.950000   Los Angeles   \n",
       "3      355 Hickory St, Seattle, WA 98101      9  149.990005       Seattle   \n",
       "4          125 5th St, Atlanta, GA 30301      9   11.950000       Atlanta   \n",
       "\n",
       "   Hour  Minute  \n",
       "0    14      44  \n",
       "1    10      19  \n",
       "2    17      48  \n",
       "3     7      52  \n",
       "4    19       3  "
      ]
     },
     "execution_count": 18,
     "metadata": {},
     "output_type": "execute_result"
    }
   ],
   "source": [
    "all_data['Hour'] = pd.to_datetime(all_data['Order Date']).dt.hour\n",
    "all_data['Minute'] = pd.to_datetime(all_data['Order Date']).dt.minute\n",
    "all_data.head()"
   ]
  },
  {
   "cell_type": "code",
   "execution_count": 22,
   "id": "1292b23c",
   "metadata": {},
   "outputs": [
    {
     "data": {
      "text/plain": [
       "Hour\n",
       "0    3910\n",
       "1    2350\n",
       "2    1243\n",
       "3     831\n",
       "4     854\n",
       "Name: Count Hours, dtype: int64"
      ]
     },
     "execution_count": 22,
     "metadata": {},
     "output_type": "execute_result"
    }
   ],
   "source": [
    "all_data['Count Hours'] = 1\n",
    "count_hours = all_data.groupby(['Hour']).count()['Count Hours']\n",
    "count_hours.head()"
   ]
  },
  {
   "cell_type": "code",
   "execution_count": 25,
   "id": "54fc16f3",
   "metadata": {},
   "outputs": [
    {
     "data": {
      "image/png": "[encoded data removed]",
      "text/plain": [
       "<Figure size 640x480 with 1 Axes>"
      ]
     },
     "metadata": {},
     "output_type": "display_data"
    }
   ],
   "source": [
    "count_hours.plot(kind='line')  \n",
    "plt.title('Hours advertisements')\n",
    "plt.xlabel('Hours')\n",
    "plt.ylabel('Count')\n",
    "\n",
    "x_values = count_hours.index.tolist()\n",
    "\n",
    "plt.xticks(range(len(x_values)), x_values)\n",
    "\n",
    "plt.show()"
   ]
  },
  {
   "cell_type": "markdown",
   "id": "c0d3afe5",
   "metadata": {},
   "source": [
    "**Question 4: What products are most often sold together?**"
   ]
  },
  {
   "cell_type": "code",
   "execution_count": 37,
   "id": "f8818416",
   "metadata": {},
   "outputs": [
    {
     "name": "stdout",
     "output_type": "stream",
     "text": [
      "no se\n"
     ]
    }
   ],
   "source": [
    "print(\"no se\")"
   ]
  },
  {
   "cell_type": "code",
   "execution_count": null,
   "id": "dc318a1f",
   "metadata": {},
   "outputs": [],
   "source": []
  },
  {
   "cell_type": "code",
   "execution_count": null,
   "id": "96e0da7e",
   "metadata": {},
   "outputs": [],
   "source": []
  }
 ],
 "metadata": {
  "kernelspec": {
   "display_name": "Python 3 (ipykernel)",
   "language": "python",
   "name": "python3"
  },
  "language_info": {
   "codemirror_mode": {
    "name": "ipython",
    "version": 3
   },
   "file_extension": ".py",
   "mimetype": "text/x-python",
   "name": "python",
   "nbconvert_exporter": "python",
   "pygments_lexer": "ipython3",
   "version": "3.11.4"
  }
 },
 "nbformat": 4,
 "nbformat_minor": 5
}
